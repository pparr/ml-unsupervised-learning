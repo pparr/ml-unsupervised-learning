{
 "cells": [
  {
   "cell_type": "code",
   "execution_count": 6,
   "metadata": {},
   "outputs": [],
   "source": [
    "import pandas as pd\n",
    "import seaborn as sns\n",
    "import numpy as np\n",
    "import graphviz\n",
    "import matplotlib.pyplot as plt\n",
    "from sklearn.model_selection import train_test_split\n",
    "from sklearn.preprocessing import MinMaxScaler, OneHotEncoder\n",
    "from sklearn import metrics\n",
    "from sklearn.cluster import KMeans\n",
    "from sklearn import mixture"
   ]
  },
  {
   "cell_type": "code",
   "execution_count": 7,
   "metadata": {},
   "outputs": [
    {
     "data": {
      "text/plain": [
       "0    16258\n",
       "1     1639\n",
       "Name: 0, dtype: int64"
      ]
     },
     "execution_count": 7,
     "metadata": {},
     "output_type": "execute_result"
    },
    {
     "data": {
      "image/png": "[encoded data removed]",
      "text/plain": [
       "<Figure size 432x288 with 1 Axes>"
      ]
     },
     "metadata": {
      "needs_background": "light"
     },
     "output_type": "display_data"
    }
   ],
   "source": [
    "# Dataset source:\n",
    "# http://archive.ics.uci.edu/ml/datasets/HTRU2#\n",
    "\n",
    "# Read in data\n",
    "data = pd.read_csv('../data/HTRU_2.csv', sep=',')\n",
    "sns.countplot(data.iloc[:,-1]) # plot number of things with each value\n",
    "\n",
    "data.iloc[:,-1].value_counts(sort=True)"
   ]
  },
  {
   "cell_type": "code",
   "execution_count": 8,
   "metadata": {},
   "outputs": [],
   "source": [
    "# Create training, testing, and validation sets\n",
    "\n",
    "X = data.drop(data.columns[-1], axis=1) # last value is the pulsar indicator\n",
    "\n",
    "y = data.iloc[:,-1]\n",
    "\n",
    "x_train, x_test, y_train, y_test = train_test_split(X, y, random_state=0, test_size=0.2) # 80/20\n",
    "\n",
    "# scale so it converges\n",
    "scaling = MinMaxScaler()\n",
    "x_train = scaling.fit_transform(x_train)\n",
    "x_test = scaling.transform(x_test)\n",
    "\n",
    "enc = OneHotEncoder(categories='auto')\n",
    "y_train = enc.fit_transform(y_train.values.reshape(-1, 1)).todense()\n",
    "y_test = enc.transform(y_test.values.reshape(-1, 1)).todense()"
   ]
  },
  {
   "cell_type": "code",
   "execution_count": 9,
   "metadata": {},
   "outputs": [
    {
     "data": {
      "image/png": "[encoded data removed]",
      "text/plain": [
       "<Figure size 432x288 with 1 Axes>"
      ]
     },
     "metadata": {
      "needs_background": "light"
     },
     "output_type": "display_data"
    }
   ],
   "source": [
    "# Clustering algorithms \n",
    "# K-Means\n",
    "# used https://jakevdp.github.io/PythonDataScienceHandbook/05.11-k-means.html\n",
    "\n",
    "# How to choose the # of clusters\n",
    "clusters = [2, 3, 4, 5, 6, 7, 8, 9, 10, 11, 12]\n",
    "scores = {'sil': [], 'var': [], 'n_clusters': []}\n",
    "\n",
    "sse = {}\n",
    "for c in clusters:\n",
    "    kmeans = KMeans(n_clusters=c, random_state=42)\n",
    "    kmeans.fit(x_train)\n",
    "    # these are the labels\n",
    "    y_kmeans_pred=kmeans.predict(x_test)\n",
    "\n",
    "\n",
    "    centers = kmeans.cluster_centers_\n",
    "    #plt.scatter(X[:, 0], X[:, 1], c=y_kmeans, s=50, cmap='viridis')\n",
    "    #plt.scatter(centers[:, 0], centers[:, 1], c='black', s=200, alpha=0.5)\n",
    "    \n",
    "\n",
    "    #Silhouette score\n",
    "    silhouette = metrics.silhouette_score(x_test, y_kmeans_pred, metric='euclidean')\n",
    "    scores['n_clusters'].append(c)\n",
    "    scores['sil'].append(silhouette)\n",
    "    #Variance\n",
    "    variance = kmeans.score(x_test)\n",
    "    scores['var'].append(variance)\n",
    "\n",
    "\n",
    "# elbow\n",
    "#https://stackoverflow.com/questions/19197715/scikit-learn-k-means-elbow-criterion\n",
    "\n",
    "    sse[c] = kmeans.inertia_ # Inertia: Sum of distances of samples to their closest cluster center\n",
    "plt.figure()\n",
    "plt.plot(list(sse.keys()), list(sse.values()))\n",
    "plt.xlabel(\"Number of clusters\")\n",
    "plt.ylabel(\"SSE\")\n",
    "plt.show()\n",
    "\n",
    "# k=6 appears to be the elbow\n",
    "# EM\n",
    "# looked at https://www.kaggle.com/charel/learn-by-example-expectation-maximization\n"
   ]
  }
 ],
 "metadata": {
  "kernelspec": {
   "display_name": "Python 3",
   "language": "python",
   "name": "python3"
  },
  "language_info": {
   "codemirror_mode": {
    "name": "ipython",
    "version": 3
   },
   "file_extension": ".py",
   "mimetype": "text/x-python",
   "name": "python",
   "nbconvert_exporter": "python",
   "pygments_lexer": "ipython3",
   "version": "3.7.6"
  }
 },
 "nbformat": 4,
 "nbformat_minor": 4
}
